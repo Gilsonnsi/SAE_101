{
 "cells": [
  {
   "cell_type": "code",
   "execution_count": 7,
   "metadata": {},
   "outputs": [],
   "source": [
    "from time import time\n",
    "from math import *\n",
    "from numpy import *\n",
    "from random import *\n",
    "\n",
    "##############\n",
    "# SAE S01.01 #\n",
    "##############\n",
    "\n",
    "def nb_villes(villes):\n",
    "    \"\"\"Retourne le nombre de villes\"\"\"\n",
    "    return len(villes)//3\n",
    "\n",
    "\n",
    "def noms_villes(villes):\n",
    "    \"\"\"Retourne un tableau contenant le nom des villes\"\"\"\n",
    "    noms_v = []\n",
    "    i = 0\n",
    "    while 3*i < len(villes):\n",
    "        noms_v.append(villes[3*i])\n",
    "        i += 1\n",
    "    return noms_v\n",
    "\n",
    "\n",
    "def d2r(nb):\n",
    "    return nb*pi/180\n",
    "\n",
    "\n",
    "def distance(long1, lat1, long2, lat2):\n",
    "    \"\"\"retourne la distance entre les points (long1, lat1) et (long2, lat2)\"\"\"\n",
    "    lat1 = d2r(lat1)\n",
    "    long1 = d2r(long1)\n",
    "    lat2 = d2r(lat2)\n",
    "    long2 = d2r(long2)\n",
    "    R = 6370.7\n",
    "    d = R*arccos(sin(lat1)*sin(lat2)+cos(lat1)*cos(lat2)*cos(long2-long1))\n",
    "    return d\n",
    "\n",
    "\n",
    "def indexCity(ville, villes):\n",
    "    \"\"\"Retourne l'indice dans le tableau villes de la ville de nom ville,\n",
    "       et -1 si elle n'existe pas\n",
    "    \"\"\"\n",
    "    res = -1\n",
    "    i = 0\n",
    "    while 3*i < len(villes) and villes[3*i] != ville:\n",
    "        i += 1\n",
    "    if 3*i < len(villes):\n",
    "        res = 3*i\n",
    "    return res\n",
    "\n",
    "\n",
    "def distance_noms(nom1, nom2, villes):\n",
    "    \"\"\"Retourne la distance entre les villes nom1 et nom2 \n",
    "       en fonction de la structure de données villes\n",
    "    \"\"\"\n",
    "    index1 = indexCity(nom1, villes)\n",
    "    index2 = indexCity(nom2, villes)\n",
    "\n",
    "    if index1 == -1 or index2 == -1:\n",
    "        d = -1\n",
    "    else:\n",
    "        d = distance(villes[index1+1], villes[index1+2],villes[index2+1], villes[index2+2])\n",
    "    return d\n",
    "\n",
    "\n",
    "def lecture_villes(path):\n",
    "    \"\"\"Retourne la structure de données villes en fonction des données du fichier path\"\"\"\n",
    "    f_in = open(path, encoding='utf-8', mode='r')\n",
    "    villes = []\n",
    "    li = f_in.readline()\n",
    "    li = li.strip()\n",
    "    while li != '':\n",
    "        tab_li = li.split(';')\n",
    "        villes.append(tab_li[0])\n",
    "        villes.append(float(tab_li[1]))\n",
    "        villes.append(float(tab_li[2]))\n",
    "        li = f_in.readline()\n",
    "        li = li.strip()\n",
    "    f_in.close()\n",
    "    return villes\n",
    "\n",
    "\n",
    "def long_tour(villes, tournee):\n",
    "    \"\"\"Retourne la longueur d'une tournée en fonction de la structure de données villes\"\"\"\n",
    "    long = 0\n",
    "    i = 0\n",
    "    while i+1 < len(tournee):\n",
    "        long += distance_noms(tournee[i], tournee[i+1], villes)\n",
    "        i += 1\n",
    "    long += distance_noms(tournee[i], tournee[0], villes)\n",
    "    return long\n",
    "\n",
    "def durée(nom1,nom2,villes,v):\n",
    "    d = distance_noms(nom1,nom2,villes)\n",
    "    t = d/v\n",
    "    return t\n"
   ]
  },
  {
   "cell_type": "code",
   "execution_count": 8,
   "metadata": {},
   "outputs": [
    {
     "name": "stdout",
     "output_type": "stream",
     "text": [
      "test de la fonction dictionary_cities: ok \n"
     ]
    }
   ],
   "source": [
    "def dictionary_cities(villes):\n",
    "    \"\"\"\n",
    "    fonction qui en prenant en paramètre un tableau de villes retourne un dictionnaire de distances \n",
    "    contenant les distances entre les villes du tableau passé en paramètre.\n",
    "    \"\"\"\n",
    "    dico = {} \n",
    "    for city_keys in noms_villes(villes):\n",
    "        dico[city_keys] = {}\n",
    "        for city in noms_villes(villes):\n",
    "            if (city_keys != city):\n",
    "                dico[city_keys][city] = distance_noms(city_keys, city, villes)\n",
    "    return dico\n",
    "def test_dictionary_cities():\n",
    "    assert dictionary_cities([\"Paris\",2.33, 48.86, \"Lyon\", 4.85, 45.75, \"Marseille\", 5.40, 43.30, \"Lille\", 3.06, 50.63]) == {'Paris': {'Lyon': 394.5056834297657, 'Marseille': 661.8616554466852, 'Lille': 203.67224282542662}, \n",
    "                                   'Lyon': {'Paris': 394.5056834297657, 'Marseille': 275.87965367431525, 'Lille': 558.5472363339595}, \n",
    "                                   'Marseille': {'Paris': 661.8616554466852, 'Lyon': 275.87965367431525, 'Lille': 834.0220261600157}, \n",
    "                                   'Lille': {'Paris': 203.67224282542662, 'Lyon': 558.5472363339595, 'Marseille': 834.0220261600157}}\n",
    "    print(\"test de la fonction dictionary_cities: ok \")\n",
    "test_dictionary_cities()"
   ]
  },
  {
   "cell_type": "code",
   "execution_count": 9,
   "metadata": {},
   "outputs": [
    {
     "name": "stdout",
     "output_type": "stream",
     "text": [
      "test de la fonction dictionary_cities: ok \n"
     ]
    }
   ],
   "source": [
    "\n",
    "\n",
    "\n",
    "import math\n",
    "\n",
    "\n",
    "def distance_cities(name1, name2, dico_cities):\n",
    "    \"\"\" \n",
    "    fonction qui prend en paramètre deux noms de villes et un dictionnaire de distances, et retourne la distance \n",
    "    entre les deux villes passées en paramètre si cette valeur est stockée dans le dictionnaire de villes, \n",
    "    et -1 sinon.\n",
    "    \"\"\"\n",
    "    if name1 in dico_cities:\n",
    "        if name2 in dico_cities[name1]:\n",
    "            return dico_cities[name1][name2]\n",
    "    return -1\n",
    "\n",
    "def test_distance_cities():\n",
    "    assert math.isclose(distance_cities(\"Lyon\",\"Lille\",{'Paris': {'Lyon': 394.5056834297657, 'Marseille': 661.8616554466852, 'Lille': 203.67224282542662}, \n",
    "                                   'Lyon': {'Paris': 394.5056834297657, 'Marseille': 275.87965367431525, 'Lille': 558.5472363339595}, \n",
    "                                   'Marseille': {'Paris': 661.8616554466852, 'Lyon': 275.87965367431525, 'Lille': 834.0220261600157}, \n",
    "                                   'Lille': {'Paris': 203.67224282542662, 'Lyon': 558.5472363339595, 'Marseille': 834.0220261600157}}) ,558.5472363339435)\n",
    "    assert distance_cities(\"Lyon\",\"Dijon\",{'Paris': {'Lyon': 394.5056834297657, 'Marseille': 661.8616554466852, 'Lille': 203.67224282542662}, \n",
    "                                   'Lyon': {'Paris': 394.5056834297657, 'Marseille': 275.87965367431525, 'Lille': 558.5472363339595}, \n",
    "                                   'Marseille': {'Paris': 661.8616554466852, 'Lyon': 275.87965367431525, 'Lille': 834.0220261600157}, \n",
    "                                   'Lille': {'Paris': 203.67224282542662, 'Lyon': 558.5472363339595, 'Marseille': 834.0220261600157}}) == -1\n",
    "    print(\"test de la fonction distance_cities: ok\")\n",
    "test_dictionary_cities()"
   ]
  },
  {
   "cell_type": "code",
   "execution_count": 10,
   "metadata": {},
   "outputs": [
    {
     "name": "stdout",
     "output_type": "stream",
     "text": [
      "test de la fonction tour_length:ok\n"
     ]
    }
   ],
   "source": [
    "def tour_length(tour, dico_cities):\n",
    "    \"\"\"\n",
    "    La fonction qui prend en paramètre un tour et un dictionnaire de distances, et retourne la longueur d'une  tournée\n",
    "    \"\"\"\n",
    "    length = 0\n",
    "    i = 0\n",
    "    while i+1 < len(tour):\n",
    "        length += distance_cities(tour[i], tour[i+1], dico_cities)\n",
    "        i += 1\n",
    "    length += distance_cities(tour[i], tour[0], dico_cities)\n",
    "    return length\n",
    "\n",
    "def test_tour_length():\n",
    "    assert math.isclose(tour_length([\"Paris\", \"Lyon\", \"Marseille\", \"Lille\"],{'Paris': {'Lyon': 394.5056834297657, 'Marseille': 661.8616554466852, 'Lille': 203.67224282542662}, \n",
    "                                   'Lyon': {'Paris': 394.5056834297657, 'Marseille': 275.87965367431525, 'Lille': 558.5472363339595}, \n",
    "                                   'Marseille': {'Paris': 661.8616554466852, 'Lyon': 275.87965367431525, 'Lille': 834.0220261600157}, \n",
    "                                   'Lille': {'Paris': 203.67224282542662, 'Lyon': 558.5472363339595, 'Marseille': 834.0220261600157}}),1708.0796060895232)\n",
    "    print(\"test de la fonction tour_length:ok\")\n",
    "\n",
    "test_tour_length()\n"
   ]
  },
  {
   "cell_type": "code",
   "execution_count": 11,
   "metadata": {},
   "outputs": [
    {
     "name": "stdout",
     "output_type": "stream",
     "text": [
      "-24\n",
      "0.0  ms de long tour\n",
      "1708.0796060895232\n",
      "0.0  ms de tour length\n"
     ]
    }
   ],
   "source": [
    "#théoriquement c'est plus efficace d'utilisé un dictionnaire pour chercher des éléments\n",
    "#experimentale\n",
    "tic = time()\n",
    "print(long_tour([\"Paris\", \"Lyon\", \"Marseille\", \"Lille\"],[\"Paris\",2.33,48.86, \"Lyon\",4.85,45.75, \n",
    "          \"Marseille\", 5.40,43.30, \"Lille\",3.06,50.63, \n",
    "          \"Strasbourg\",7.75,48.57, \"Rennes\",-1.66,48.11, \n",
    "          \"Clermont-Ferrand\",3.08,45.77, \"Bordeaux\", -0.57, 44.83]))\n",
    "tac = time() \n",
    "print(round(1000*(tac-tic),2),\" ms de long tour\")\n",
    "\n",
    "tic = time()\n",
    "print(tour_length([\"Paris\", \"Lyon\", \"Marseille\", \"Lille\"],{'Paris': {'Lyon': 394.5056834297657, 'Marseille': 661.8616554466852, 'Lille': 203.67224282542662}, \n",
    "                                   'Lyon': {'Paris': 394.5056834297657, 'Marseille': 275.87965367431525, 'Lille': 558.5472363339595}, \n",
    "                                   'Marseille': {'Paris': 661.8616554466852, 'Lyon': 275.87965367431525, 'Lille': 834.0220261600157}, \n",
    "                                   'Lille': {'Paris': 203.67224282542662, 'Lyon': 558.5472363339595, 'Marseille': 834.0220261600157}}))\n",
    "tac = time()  \n",
    "print(round(1000*(tac-tic),2),\" ms de tour length\")\n",
    "tic = time()\n",
    "#de mon coté la liste prend 3.97 ms et le dicotionnaire 1.99"
   ]
  },
  {
   "cell_type": "code",
   "execution_count": 12,
   "metadata": {},
   "outputs": [
    {
     "name": "stdout",
     "output_type": "stream",
     "text": [
      "test de la fonction closest_city:ok\n"
     ]
    }
   ],
   "source": [
    "def closest_city(city, cities, dico_cities):\n",
    "    \"\"\"\n",
    "    la fonction prend en paramètre un nom de ville city, \n",
    "    un tableau de noms de villes cities et un dictionnaire de distances, et retournant l'indice de la ville de cities la plus proche de city\n",
    "    \"\"\"\n",
    "    distance = 0\n",
    "    min_distance = distance_cities(city, cities[0], dico_cities)\n",
    "    city_closest = cities[0]\n",
    "    for sub_city in cities:\n",
    "        distance = distance_cities(city, sub_city, dico_cities)\n",
    "        if (distance < min_distance):\n",
    "            min_distance = distance\n",
    "            city_closest = sub_city\n",
    "    return cities.index(city_closest)\n",
    "    \n",
    "def test_closest_city():\n",
    "    assert closest_city(\"Paris\",[\"Marseille\", \"Lyon\"],{'Paris': {'Lyon': 394.5056834297657, 'Marseille': 661.8616554466852, 'Lille': 203.67224282542662}, \n",
    "                                   'Lyon': {'Paris': 394.5056834297657, 'Marseille': 275.87965367431525, 'Lille': 558.5472363339595}, \n",
    "                                   'Marseille': {'Paris': 661.8616554466852, 'Lyon': 275.87965367431525, 'Lille': 834.0220261600157}, \n",
    "                                   'Lille': {'Paris': 203.67224282542662, 'Lyon': 558.5472363339595, 'Marseille': 834.0220261600157}}) == 1\n",
    "    print(\"test de la fonction closest_city:ok\")\n",
    "test_closest_city()"
   ]
  },
  {
   "cell_type": "code",
   "execution_count": 13,
   "metadata": {},
   "outputs": [
    {
     "name": "stdout",
     "output_type": "stream",
     "text": [
      "La fonction test de tour_from_closest_city: ok \n"
     ]
    }
   ],
   "source": [
    "def tour_from_closest_city(city, dico_cities):\n",
    "    \"\"\" \n",
    "    la fonction prend en paramètre un nom de ville et \n",
    "    un dictionnaire de distances et retourne le tour obtenu par l'algorithme décrit ci-dessus. La ville de départ sera celle donnée en paramètre.\n",
    "    \"\"\"\n",
    "    tour = []\n",
    "    current_city = city\n",
    "    tour.append(current_city)\n",
    "    cities = list(dico_cities.keys())\n",
    "    cities.remove(current_city)\n",
    "    while len(cities) != 0:\n",
    "        current_city = closest_city(current_city, cities, dico_cities)\n",
    "        current_city = cities[current_city]\n",
    "        tour.append(current_city)\n",
    "        cities.remove(current_city)\n",
    "    return tour\n",
    "\n",
    "def test_tour_from_closest_city():\n",
    "    assert tour_from_closest_city(\"Marseille\",{'Paris': {'Lyon': 394.5056834297657, 'Marseille': 661.8616554466852, 'Lille': 203.67224282542662}, \n",
    "                                   'Lyon': {'Paris': 394.5056834297657, 'Marseille': 275.87965367431525, 'Lille': 558.5472363339595}, \n",
    "                                   'Marseille': {'Paris': 661.8616554466852, 'Lyon': 275.87965367431525, 'Lille': 834.0220261600157}, \n",
    "                                   'Lille': {'Paris': 203.67224282542662, 'Lyon': 558.5472363339595, 'Marseille': 834.0220261600157}}) == [\"Marseille\", \"Lyon\", \"Paris\", \"Lille\"]\n",
    "    print(\"La fonction test de tour_from_closest_city: ok \")\n",
    "test_tour_from_closest_city()\n",
    "          "
   ]
  },
  {
   "cell_type": "code",
   "execution_count": 14,
   "metadata": {},
   "outputs": [
    {
     "name": "stdout",
     "output_type": "stream",
     "text": [
      "test de la fonction best_tour_from_closest_city:ok\n"
     ]
    }
   ],
   "source": [
    "def best_tour_from_closest_city(dico_cities):\n",
    "    \"\"\" \n",
    "    La fonction  prend en paramètre un dictionnaire de distances. \n",
    "    Cette fonction devra retourner le meilleur tour parmi ceux obtenus avec l'algorithme précédent en prenant chaque ville comme ville de départ\n",
    "    \"\"\"\n",
    "    current_tour = []\n",
    "    current_tour_len = 0\n",
    "    best_tour = tour_from_closest_city(\"Lyon\", dico_cities)\n",
    "    best_tour_len = tour_length(best_tour, dico_cities)\n",
    "    for city in dico_cities:\n",
    "        current_tour = tour_from_closest_city(city, dico_cities)\n",
    "        current_tour_len = tour_length(current_tour, dico_cities)\n",
    "        if (current_tour_len < best_tour_len):\n",
    "            best_tour_len = current_tour_len\n",
    "            best_tour = current_tour\n",
    "    return best_tour\n",
    "def test_best_tour_from_closest_city():\n",
    "    assert best_tour_from_closest_city({'Paris': {'Lyon': 394.5056834297657, 'Marseille': 661.8616554466852, 'Lille': 203.67224282542662}, \n",
    "                                   'Lyon': {'Paris': 394.5056834297657, 'Marseille': 275.87965367431525, 'Lille': 558.5472363339595}, \n",
    "                                   'Marseille': {'Paris': 661.8616554466852, 'Lyon': 275.87965367431525, 'Lille': 834.0220261600157}, \n",
    "                                   'Lille': {'Paris': 203.67224282542662, 'Lyon': 558.5472363339595, 'Marseille': 834.0220261600157}}) == ['Lyon', 'Marseille', 'Paris', 'Lille']\n",
    "    print(\"test de la fonction best_tour_from_closest_city:ok\")\n",
    "\n",
    "test_best_tour_from_closest_city()"
   ]
  },
  {
   "cell_type": "code",
   "execution_count": 15,
   "metadata": {},
   "outputs": [],
   "source": [
    "#O(1) car le temps de la fonction est constant."
   ]
  },
  {
   "cell_type": "code",
   "execution_count": 16,
   "metadata": {},
   "outputs": [
    {
     "name": "stdout",
     "output_type": "stream",
     "text": [
      "test de la fonction reverse_part_tour:ok\n"
     ]
    }
   ],
   "source": [
    "def reverse_part_tour(tour, index_b, index_e):\n",
    "    \"\"\"\n",
    "     la fonction prend en paramètre un tour et deux indices ind_b et ind_e, \n",
    "     et inverse la partie du tableau donnée par les indices ind_b et ind_e inclus.\n",
    "    \"\"\"\n",
    "    n = index_e - index_b\n",
    "    i = 0\n",
    "    while i <= n//2:\n",
    "        temp = tour[index_b+i]\n",
    "        tour[index_b+i] = tour[index_e-i]\n",
    "        tour[index_e-i] = temp\n",
    "        i+=1\n",
    "    return tour\n",
    "def test_reverse_part_tour():\n",
    "    assert reverse_part_tour([\"Agen\", \"Belfort\", \"Cahors\", \"Dijon\", \"Épinay\", \"Fréjus\", \"Grenoble\", \"Hyères\"],2,5) == [\"Agen\", \"Belfort\", \"Fréjus\",\"Épinay\", \"Dijon\", \"Cahors\", \"Grenoble\", \"Hyères\"]\n",
    "    print(\"test de la fonction reverse_part_tour:ok\")\n",
    "test_reverse_part_tour()"
   ]
  },
  {
   "cell_type": "code",
   "execution_count": 17,
   "metadata": {},
   "outputs": [
    {
     "name": "stdout",
     "output_type": "stream",
     "text": [
      "test de la fonction inversion_length_diff:ok\n"
     ]
    }
   ],
   "source": [
    "def inversion_length_diff(tour, dico_cities, index_b, index_e):\n",
    "    \"\"\" \n",
    "    la fonction prend en paramètre un dictionnaire de distances, un tour et deux indices ind_b et ind_e et retourne \n",
    "    la différence entre la distance du tour passé en paramètre et celui obtenu en inversant la partie du tour entre les ind_b et ind_e inclus.\n",
    "    \"\"\"\n",
    "    tour_len = tour_length(tour, dico_cities)\n",
    "    T = list(tour)\n",
    "    reverse_part_tour(T, index_b, index_e)\n",
    "    reversed_tour_len = tour_length(T, dico_cities)\n",
    "    return tour_len-reversed_tour_len\n",
    "\n",
    "def test_inversion_length_diff():\n",
    "    assert math.isclose(inversion_length_diff([\"Marseille\", \"Lyon\", \"Paris\", \"Lille\"],{'Paris': {'Lyon': 394.5056834297657, 'Marseille': 661.8616554466852, 'Lille': 203.67224282542662}, \n",
    "                                   'Lyon': {'Paris': 394.5056834297657, 'Marseille': 275.87965367431525, 'Lille': 558.5472363339595}, \n",
    "                                   'Marseille': {'Paris': 661.8616554466852, 'Lyon': 275.87965367431525, 'Lille': 834.0220261600157}, \n",
    "                                   'Lille': {'Paris': 203.67224282542662, 'Lyon': 558.5472363339595, 'Marseille': 834.0220261600157}},1,2),-740.8569952808871)\n",
    "    print(\"test de la fonction inversion_length_diff:ok\")\n",
    "test_inversion_length_diff()"
   ]
  },
  {
   "cell_type": "code",
   "execution_count": 18,
   "metadata": {},
   "outputs": [
    {
     "name": "stdout",
     "output_type": "stream",
     "text": [
      "test de la fonction better_inversion:ok\n"
     ]
    }
   ],
   "source": [
    "def better_inversion(tour, dico_cities):\n",
    "    \"\"\" \n",
    "    la fonction prend en paramètre un tour et un dictionnaire de distances et \n",
    "    applique cette amélioration au tour si elle existe. \n",
    "    La fonction doit renvoyer True si une inversion du tour a été faite, et False sinon.\n",
    "    \"\"\"\n",
    "    best_inversion = 0\n",
    "    best_d = 0\n",
    "    best_f = 0\n",
    "    d = 0\n",
    "    f = len(tour)-1\n",
    "    while d < len(tour)-1:\n",
    "        while d < f:\n",
    "            current_inversion = inversion_length_diff(tour, dico_cities, d, f)\n",
    "            if current_inversion > best_inversion:\n",
    "                best_inversion = current_inversion\n",
    "                best_d = d\n",
    "                best_f = f\n",
    "            f-=1\n",
    "        d+=1\n",
    "        f = len(tour)-1\n",
    "    if (best_d == 0 and best_f == 0):\n",
    "        return False\n",
    "    reverse_part_tour(tour, best_d, best_f)\n",
    "    return True\n",
    "def test_better_inversion():\n",
    "    assert better_inversion([\"Marseille\", \"Paris\", \"Lyon\", \"Lille\"],{'Paris': {'Lyon': 394.5056834297657, 'Marseille': 661.8616554466852, 'Lille': 203.67224282542662}, \n",
    "                                   'Lyon': {'Paris': 394.5056834297657, 'Marseille': 275.87965367431525, 'Lille': 558.5472363339595}, \n",
    "                                   'Marseille': {'Paris': 661.8616554466852, 'Lyon': 275.87965367431525, 'Lille': 834.0220261600157}, \n",
    "                                   'Lille': {'Paris': 203.67224282542662, 'Lyon': 558.5472363339595, 'Marseille': 834.0220261600157}}) == True \n",
    "    assert better_inversion([\"Marseille\", \"Lyon\", \"Lille\", \"Paris\"],{'Paris': {'Lyon': 394.5056834297657, 'Marseille': 661.8616554466852, 'Lille': 203.67224282542662}, \n",
    "                                   'Lyon': {'Paris': 394.5056834297657, 'Marseille': 275.87965367431525, 'Lille': 558.5472363339595}, \n",
    "                                   'Marseille': {'Paris': 661.8616554466852, 'Lyon': 275.87965367431525, 'Lille': 834.0220261600157}, \n",
    "                                   'Lille': {'Paris': 203.67224282542662, 'Lyon': 558.5472363339595, 'Marseille': 834.0220261600157}}) == False\n",
    "    print(\"test de la fonction better_inversion:ok\")\n",
    "test_better_inversion()"
   ]
  },
  {
   "cell_type": "code",
   "execution_count": 25,
   "metadata": {},
   "outputs": [
    {
     "name": "stdout",
     "output_type": "stream",
     "text": [
      "test de la fonction best_obtained_with_inversions:ok\n"
     ]
    }
   ],
   "source": [
    "def best_obtained_with_inversions(tour, d_cities):\n",
    "    \"\"\" \n",
    "    la fonction prend en paramètre un tour et un dictionnaire de distances. \n",
    "    La fonction doit effectuer successivement des améliorations par inversion . \n",
    "    Elle s'arrête lorsque aucune inversion ne peut améliorer le tour. La fonction retournera le nombre d'inversions effectuées.\n",
    "    \"\"\"\n",
    "    i = 0\n",
    "    while better_inversion(tour, d_cities):\n",
    "        i += 1\n",
    "    return i\n",
    "\n",
    "def test_best_obtained_with_inversions():\n",
    "    assert best_obtained_with_inversions([\"Marseille\", \"Paris\", \"Lyon\", \"Lille\"],{'Paris': {'Lyon': 394.5056834297657, 'Marseille': 661.8616554466852, 'Lille': 203.67224282542662}, \n",
    "                                   'Lyon': {'Paris': 394.5056834297657, 'Marseille': 275.87965367431525, 'Lille': 558.5472363339595}, \n",
    "                                   'Marseille': {'Paris': 661.8616554466852, 'Lyon': 275.87965367431525, 'Lille': 834.0220261600157}, \n",
    "                                   'Lille': {'Paris': 203.67224282542662, 'Lyon': 558.5472363339595, 'Marseille': 834.0220261600157}}) == 1#Le meilleur ne sera pas Marseille,lyon,paris,lille\n",
    "    print(\"test de la fonction best_obtained_with_inversions:ok\")\n",
    "test_best_obtained_with_inversions()"
   ]
  },
  {
   "cell_type": "code",
   "execution_count": 27,
   "metadata": {},
   "outputs": [
    {
     "name": "stdout",
     "output_type": "stream",
     "text": [
      "test de la fonction best_obtained_with_inversions:ok\n"
     ]
    }
   ],
   "source": [
    "def test_best_obtained_with_inversions():\n",
    "    assert best_obtained_with_inversions([\"Marseille\", \"Paris\", \"Lyon\", \"Lille\",\"Milan\",\"Berlin\"],\n",
    "                                    {'Paris': {'Lyon': 394.5056834297657, 'Marseille': 661.8616554466852, 'Lille': 203.67224282542662,'Milan':906.5, 'Berlin':1049.5 }, \n",
    "                                   'Lyon': {'Paris': 394.5056834297657, 'Marseille': 275.87965367431525, 'Lille': 558.5472363339595,'Milan':446.6, 'Berlin':1229.8}, \n",
    "                                   'Marseille': {'Paris': 661.8616554466852, 'Lyon': 275.87965367431525, 'Lille': 834.0220261600157,'Milan':506.8, 'Berlin':1538.9}, \n",
    "                                   'Milan':{'Paris':906.5,'Lyon': 446.6, 'Marseille': 506.8, 'Lille': 989.3,'Berlin':1033.9},\n",
    "                                   'Berlin':{'Paris':1049.5,'Lyon': 1229.8, 'Marseille': 1538.9, 'Lille': 845.6,'Milan':1033.9},\n",
    "                                   'Lille': {'Paris': 203.67224282542662, 'Lyon': 558.5472363339595, 'Marseille': 834.0220261600157,'Milan':989.3, 'Berlin':845.6}}\n",
    "                                    ) == 2#Le meilleur ne sera pas Marseille,lyon,paris,lille\n",
    "    print(\"test de la fonction best_obtained_with_inversions:ok\")\n",
    "test_best_obtained_with_inversions()"
   ]
  }
 ],
 "metadata": {
  "kernelspec": {
   "display_name": "Python 3",
   "language": "python",
   "name": "python3"
  },
  "language_info": {
   "codemirror_mode": {
    "name": "ipython",
    "version": 3
   },
   "file_extension": ".py",
   "mimetype": "text/x-python",
   "name": "python",
   "nbconvert_exporter": "python",
   "pygments_lexer": "ipython3",
   "version": "3.11.9"
  }
 },
 "nbformat": 4,
 "nbformat_minor": 2
}
